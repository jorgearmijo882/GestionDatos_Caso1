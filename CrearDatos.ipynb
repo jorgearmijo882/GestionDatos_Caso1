import pandas as pd
import numpy as np

# Generar datos aleatorios para la tabla
np.random.seed(42)  # Para que los resultados sean reproducibles
num_filas = 1000

montos = np.random.randint(100, 10000, size=num_filas)  # Montos aleatorios entre 100 y 10000
fechas = pd.date_range(start='2023-01-01', periods=num_filas, freq='D')  # Fechas a partir de enero de 2023
descripciones = ['Compra en línea', 'Pago de factura', 'Retiro en cajero', 'Transferencia', 'Depósito', 'Compra en tienda']
cuentas = np.random.randint(1000, 9999, size=num_filas)  # Números de cuenta aleatorios de 4 dígitos

# Crear la tabla de datos
datos = {
    'Monto': montos,
    'Fecha': fechas,
    'Descripción': np.random.choice(descripciones, size=num_filas),
    'Cuenta': cuentas
}

df = pd.DataFrame(datos)

# Guardar los datos en un archivo CSV
archivo_csv = 'datos_financieros.csv'
df.to_csv(archivo_csv, index=False)

# Mostrar la tabla
print(df)
print(f"\nLos datos se han guardado en el archivo '{archivo_csv}'.")
