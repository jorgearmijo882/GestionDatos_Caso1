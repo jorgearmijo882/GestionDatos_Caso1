import pandas as pd
import matplotlib.pyplot as plt
from sklearn.ensemble import IsolationForest

# Cargar el conjunto de datos
data_path = 'datos_financieros.csv'
df = pd.read_csv(data_path)

# Verificar la estructura del conjunto de datos
print(df.head())

# Seleccionar las características relevantes para el análisis (en este caso solo el monto)
X = df[['Monto']]

# Inicializar el modelo Isolation Forest
outlier_detector = IsolationForest(contamination=0.05)  # Ajustar el valor de "contamination" según el porcentaje esperado de anomalías.

# Entrenar el modelo
outlier_detector.fit(X)

# Predecir las anomalías (1 para transacciones normales, -1 para anomalías)
df['Anomalia'] = outlier_detector.predict(X)

# Filtrar y guardar las transacciones anómalas en un archivo CSV
transacciones_anomalas = df[df['Anomalia'] == -1]
transacciones_anomalas.to_csv('transacciones_anomalas.csv', index=False)

# Estadísticas del análisis
total_transacciones = len(df)
transacciones_normales = len(df[df['Anomalia'] == 1])
transacciones_anomalas = len(transacciones_anomalas)

# Resumen de estadísticas
resumen = f"Total de transacciones: {total_transacciones}\nTransacciones normales: {transacciones_normales}\nTransacciones anómalas: {transacciones_anomalas}"
with open('resumen_analisis.txt', 'w') as archivo_resumen:
    archivo_resumen.write(resumen)

# Mostrar las estadísticas en un gráfico de pastel
labels = ['Transacciones Normales', 'Transacciones Anómalas']
sizes = [transacciones_normales, transacciones_anomalas]
colors = ['lightskyblue', 'lightcoral']
plt.pie(sizes, labels=labels, colors=colors, autopct='%1.1f%%', startangle=90)
plt.axis('equal')
plt.title('Resumen del Análisis de Transacciones')
plt.show()
