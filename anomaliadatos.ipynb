import pandas as pd
from sklearn.ensemble import IsolationForest

# Cargar el conjunto de datos
data_path = 'datos_financieros.csv'
df = pd.read_csv(data_path)

# Verificar la estructura del conjunto de datos
print(df.head())

# Seleccionar las características relevantes para el análisis (en este caso solo el monto)
X = df[['Monto']]

# Inicializar el modelo Isolation Forest
outlier_detector = IsolationForest(contamination=0.05)  # Ajustar el valor de "contamination" según el porcentaje esperado de anomalías.

# Entrenar el modelo
outlier_detector.fit(X)

# Predecir las anomalías (1 para transacciones normales, -1 para anomalías)
df['Anomalia'] = outlier_detector.predict(X)

# Filtrar y mostrar las transacciones anómalas
transacciones_anomalas = df[df['Anomalia'] == -1]
print("Transacciones Anómalas:")
print(transacciones_anomalas)

# Estadísticas del análisis
print("Estadísticas del análisis:")
print("Total de transacciones:", len(df))
print("Transacciones normales:", len(df[df['Anomalia'] == 1]))
print("Transacciones anómalas:", len(transacciones_anomalas))
